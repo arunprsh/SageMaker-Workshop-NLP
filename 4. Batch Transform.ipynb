{
 "cells": [
  {
   "cell_type": "markdown",
   "metadata": {},
   "source": [
    "## Perform Batch Inference (Predictions) using SageMaker Batch Transform"
   ]
  },
  {
   "cell_type": "markdown",
   "metadata": {},
   "source": [
    "**Note:** This example notebook uses boto3 instead of the high-level SageMaker Python SDK."
   ]
  },
  {
   "cell_type": "markdown",
   "metadata": {},
   "source": [
    "##### Imports "
   ]
  },
  {
   "cell_type": "code",
   "execution_count": null,
   "metadata": {},
   "outputs": [],
   "source": [
    "from sagemaker import get_execution_role\n",
    "from time import gmtime, strftime\n",
    "import pandas as pd\n",
    "import sagemaker\n",
    "import boto3\n",
    "import time"
   ]
  },
  {
   "cell_type": "markdown",
   "metadata": {},
   "source": [
    "### Essentials"
   ]
  },
  {
   "cell_type": "code",
   "execution_count": null,
   "metadata": {},
   "outputs": [],
   "source": [
    "BUCKET = sagemaker.Session().default_bucket()\n",
    "PREFIX = 'clf'\n",
    "REGION = 'us-east-1'"
   ]
  },
  {
   "cell_type": "code",
   "execution_count": null,
   "metadata": {},
   "outputs": [],
   "source": [
    "batch_input = f's3://{BUCKET}/{PREFIX}/batch_test/'\n",
    "batch_input"
   ]
  },
  {
   "cell_type": "code",
   "execution_count": null,
   "metadata": {},
   "outputs": [],
   "source": [
    "batch_output = f's3://{BUCKET}/{PREFIX}/batch_test_out/'\n",
    "batch_output"
   ]
  },
  {
   "cell_type": "code",
   "execution_count": null,
   "metadata": {},
   "outputs": [],
   "source": [
    "current_timestamp = strftime(\"%Y-%m-%d-%H-%M-%S\", gmtime())"
   ]
  },
  {
   "cell_type": "code",
   "execution_count": null,
   "metadata": {},
   "outputs": [],
   "source": [
    "TRAINING_JOB_NAME = 'classifier-2021-04-15-15-54-02-174'  # Copy this from the console\n",
    "MODEL_NAME = f'clf-xgboost-model-{current_timestamp}'\n",
    "BATCH_JOB_NAME = f'clf-xgboost-batch-job-{current_timestamp}'\n",
    "\n",
    "session = boto3.Session()\n",
    "sagemaker_execution_role = get_execution_role()\n",
    "sagemaker_session = sagemaker.session.Session()\n",
    "sagemaker_client = boto3.client('sagemaker', region_name=REGION)\n",
    "s3_client = boto3.client('s3')\n",
    "\n",
    "container_uri = sagemaker.image_uris.retrieve(region=session.region_name, \n",
    "                                              framework='xgboost', \n",
    "                                              version='1.0-1', \n",
    "                                              image_scope='training')"
   ]
  },
  {
   "cell_type": "markdown",
   "metadata": {},
   "source": [
    "### Create a Model object using previously run training job name"
   ]
  },
  {
   "cell_type": "code",
   "execution_count": null,
   "metadata": {},
   "outputs": [],
   "source": [
    "info = sagemaker_client.describe_training_job(TrainingJobName=TRAINING_JOB_NAME)\n",
    "info"
   ]
  },
  {
   "cell_type": "code",
   "execution_count": null,
   "metadata": {},
   "outputs": [],
   "source": [
    "model_artifact_url = info['ModelArtifacts']['S3ModelArtifacts']\n",
    "model_artifact_url"
   ]
  },
  {
   "cell_type": "code",
   "execution_count": null,
   "metadata": {},
   "outputs": [],
   "source": [
    "primary_container = {\n",
    "    'Image': container_uri,\n",
    "    'ModelDataUrl': model_artifact_url\n",
    "  }"
   ]
  },
  {
   "cell_type": "code",
   "execution_count": null,
   "metadata": {},
   "outputs": [],
   "source": [
    "response = sagemaker_client.create_model(\n",
    "    ModelName=MODEL_NAME,\n",
    "    ExecutionRoleArn=sagemaker_execution_role,\n",
    "    PrimaryContainer=primary_container)"
   ]
  },
  {
   "cell_type": "code",
   "execution_count": null,
   "metadata": {},
   "outputs": [],
   "source": [
    "response"
   ]
  },
  {
   "cell_type": "markdown",
   "metadata": {},
   "source": [
    "### Create a Batch Transformer for batch inference\n",
    "https://boto3.amazonaws.com/v1/documentation/api/latest/reference/services/sagemaker.html"
   ]
  },
  {
   "cell_type": "markdown",
   "metadata": {},
   "source": [
    "* `MaxConcurrentTransforms` (integer) --\n",
    "The maximum number of parallel requests that can be sent to each instance in a transform job. The default value is 1.\n",
    "\n",
    "* `MaxPayloadInMB` (integer) --\n",
    "The maximum payload size allowed, in MB. A payload is the data portion of a record (without metadata).\n",
    "\n",
    "* `BatchStrategy` (string) --\n",
    "A string that determines the number of records included in a single mini-batch.\n",
    "\n",
    "SingleRecord means only one record is used per mini-batch. MultiRecord means a mini-batch is set to contain as many records that can fit within the MaxPayloadInMB limit."
   ]
  },
  {
   "cell_type": "code",
   "execution_count": null,
   "metadata": {},
   "outputs": [],
   "source": [
    "request = {\n",
    "    \"TransformJobName\": BATCH_JOB_NAME,\n",
    "    \"ModelName\": MODEL_NAME,\n",
    "    \"BatchStrategy\": \"MultiRecord\",\n",
    "    \"TransformOutput\": {\n",
    "        \"S3OutputPath\": batch_output\n",
    "    },\n",
    "    \"TransformInput\": {\n",
    "        \"DataSource\": {\n",
    "            \"S3DataSource\": {\n",
    "                \"S3DataType\": \"S3Prefix\",\n",
    "                \"S3Uri\": batch_input \n",
    "            }\n",
    "        },\n",
    "        \"ContentType\": \"text/csv\",\n",
    "        \"SplitType\": \"Line\",\n",
    "        \"CompressionType\": \"None\"\n",
    "    },\n",
    "    \"TransformResources\": {\n",
    "            \"InstanceType\": \"ml.m5.xlarge\",\n",
    "            \"InstanceCount\": 2\n",
    "    }\n",
    "}"
   ]
  },
  {
   "cell_type": "code",
   "execution_count": null,
   "metadata": {},
   "outputs": [],
   "source": [
    "response = sagemaker_client.create_transform_job(**request)\n",
    "response"
   ]
  },
  {
   "cell_type": "code",
   "execution_count": null,
   "metadata": {},
   "outputs": [],
   "source": [
    "while(True):\n",
    "    response = sagemaker_client.describe_transform_job(TransformJobName=BATCH_JOB_NAME)\n",
    "    status = response['TransformJobStatus']\n",
    "    if  status == 'Completed':\n",
    "        print(\"Transform job ended with status: {}\".format(status))\n",
    "        break\n",
    "    if status == 'Failed':\n",
    "        message = response['FailureReason']\n",
    "        print('Transform failed with the following error: {}'.format(message))\n",
    "        raise Exception('Transform job failed') \n",
    "    print(\"Transform job is still in status: {}\".format(status))    \n",
    "    time.sleep(30) "
   ]
  },
  {
   "cell_type": "markdown",
   "metadata": {},
   "source": [
    "### 4. Evaluate Output"
   ]
  },
  {
   "cell_type": "code",
   "execution_count": null,
   "metadata": {},
   "outputs": [],
   "source": [
    "key = f'{PREFIX}/batch_test_out/batch_test.csv.out'"
   ]
  },
  {
   "cell_type": "code",
   "execution_count": null,
   "metadata": {},
   "outputs": [],
   "source": [
    "obj = s3_client.get_object(Bucket=BUCKET, Key=key)\n",
    "results_df = pd.read_csv(obj['Body'], names=['Predictions'])"
   ]
  },
  {
   "cell_type": "code",
   "execution_count": null,
   "metadata": {},
   "outputs": [],
   "source": [
    "results_df"
   ]
  },
  {
   "cell_type": "code",
   "execution_count": null,
   "metadata": {},
   "outputs": [],
   "source": []
  }
 ],
 "metadata": {
  "instance_type": "ml.m5.large",
  "kernelspec": {
   "display_name": "Python 3 (Data Science)",
   "language": "python",
   "name": "python3__SAGEMAKER_INTERNAL__arn:aws:sagemaker:us-east-1:081325390199:image/datascience-1.0"
  },
  "language_info": {
   "codemirror_mode": {
    "name": "ipython",
    "version": 3
   },
   "file_extension": ".py",
   "mimetype": "text/x-python",
   "name": "python",
   "nbconvert_exporter": "python",
   "pygments_lexer": "ipython3",
   "version": "3.7.10"
  }
 },
 "nbformat": 4,
 "nbformat_minor": 4
}
